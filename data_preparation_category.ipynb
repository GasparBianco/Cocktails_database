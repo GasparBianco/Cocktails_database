{
 "cells": [
  {
   "cell_type": "code",
   "execution_count": 1,
   "id": "75e01b66",
   "metadata": {},
   "outputs": [],
   "source": [
    "import numpy as np\n",
    "import pandas as pd\n",
    "import sqlite3"
   ]
  },
  {
   "cell_type": "code",
   "execution_count": 2,
   "id": "3a483a8e",
   "metadata": {},
   "outputs": [],
   "source": [
    "df = pd.read_csv(r'C:\\Users\\Gaspar\\Desktop\\Coctails_db\\all_drinks.csv', delimiter = \",\")"
   ]
  },
  {
   "cell_type": "code",
   "execution_count": 3,
   "id": "20a07d03",
   "metadata": {},
   "outputs": [],
   "source": [
    "df_temp = df[\"strCategory\"]"
   ]
  },
  {
   "cell_type": "code",
   "execution_count": 4,
   "id": "edc71a34",
   "metadata": {},
   "outputs": [],
   "source": [
    "def to_lower(text):\n",
    "    return text.lower()\n",
    "\n",
    "\n",
    "df_temp = df_temp.apply(to_lower)"
   ]
  },
  {
   "cell_type": "code",
   "execution_count": 5,
   "id": "e418093d",
   "metadata": {},
   "outputs": [],
   "source": [
    "df_temp = df_temp.drop_duplicates()"
   ]
  },
  {
   "cell_type": "code",
   "execution_count": 6,
   "id": "a0c21c1e",
   "metadata": {},
   "outputs": [],
   "source": [
    "ids = range(1, len(df_temp) + 1)"
   ]
  },
  {
   "cell_type": "code",
   "execution_count": 7,
   "id": "5817cc9b",
   "metadata": {},
   "outputs": [],
   "source": [
    "data_dict = {'ID': ids, 'Category': df_temp}\n",
    "df_category = pd.DataFrame(data_dict)"
   ]
  },
  {
   "cell_type": "code",
   "execution_count": 8,
   "id": "1d08a55c",
   "metadata": {},
   "outputs": [],
   "source": [
    "conn = sqlite3.connect('cocktails_database.db')"
   ]
  },
  {
   "cell_type": "code",
   "execution_count": 10,
   "id": "dc9e9d64",
   "metadata": {},
   "outputs": [
    {
     "data": {
      "text/plain": [
       "11"
      ]
     },
     "execution_count": 10,
     "metadata": {},
     "output_type": "execute_result"
    }
   ],
   "source": [
    "df_category.to_sql('category', conn, index=False)"
   ]
  },
  {
   "cell_type": "code",
   "execution_count": 11,
   "id": "95044e84",
   "metadata": {},
   "outputs": [],
   "source": [
    "conn.close()"
   ]
  },
  {
   "cell_type": "code",
   "execution_count": null,
   "id": "6b9b1d1c",
   "metadata": {},
   "outputs": [],
   "source": []
  }
 ],
 "metadata": {
  "kernelspec": {
   "display_name": "Python 3 (ipykernel)",
   "language": "python",
   "name": "python3"
  },
  "language_info": {
   "codemirror_mode": {
    "name": "ipython",
    "version": 3
   },
   "file_extension": ".py",
   "mimetype": "text/x-python",
   "name": "python",
   "nbconvert_exporter": "python",
   "pygments_lexer": "ipython3",
   "version": "3.9.13"
  }
 },
 "nbformat": 4,
 "nbformat_minor": 5
}
