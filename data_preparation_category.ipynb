{
 "cells": [
  {
   "cell_type": "code",
   "execution_count": null,
   "id": "b538a21d",
   "metadata": {},
   "outputs": [],
   "source": [
    "import numpy as np\n",
    "import pandas as pd\n",
    "import sqlite3"
   ]
  },
  {
   "cell_type": "code",
   "execution_count": null,
   "id": "ec18e1cb",
   "metadata": {},
   "outputs": [],
   "source": [
    "df = pd.read_csv(r'C:\\Users\\Gaspar\\Desktop\\Coctails_db\\all_drinks.csv', delimiter = \",\")"
   ]
  },
  {
   "cell_type": "code",
   "execution_count": null,
   "id": "b670cedb",
   "metadata": {},
   "outputs": [],
   "source": [
    "df_temp = df[\"strCategory\"]"
   ]
  },
  {
   "cell_type": "code",
   "execution_count": null,
   "id": "b755c68d",
   "metadata": {},
   "outputs": [],
   "source": [
    "def to_lower(text):\n",
    "    return text.lower()\n",
    "\n",
    "\n",
    "df_temp = df_temp.apply(to_lower)"
   ]
  },
  {
   "cell_type": "code",
   "execution_count": null,
   "id": "85932ed3",
   "metadata": {},
   "outputs": [],
   "source": [
    "df_temp = df_temp.drop_duplicates()"
   ]
  },
  {
   "cell_type": "code",
   "execution_count": null,
   "id": "d7408079",
   "metadata": {},
   "outputs": [],
   "source": [
    "ids = range(1, len(df_temp) + 1)"
   ]
  },
  {
   "cell_type": "code",
   "execution_count": null,
   "id": "90fb25b4",
   "metadata": {},
   "outputs": [],
   "source": [
    "data_dict = {'ID': ids, 'Category': df_temp}\n",
    "df_category = pd.DataFrame(data_dict)"
   ]
  },
  {
   "cell_type": "code",
   "execution_count": null,
   "id": "f8577296",
   "metadata": {},
   "outputs": [],
   "source": [
    "conn = sqlite3.connect('cocktails_database.db')"
   ]
  },
  {
   "cell_type": "code",
   "execution_count": null,
   "id": "66bff7b3",
   "metadata": {},
   "outputs": [],
   "source": [
    "df_glass.to_sql('glass', conn, index=False)"
   ]
  }
 ],
 "metadata": {
  "kernelspec": {
   "display_name": "Python 3 (ipykernel)",
   "language": "python",
   "name": "python3"
  },
  "language_info": {
   "codemirror_mode": {
    "name": "ipython",
    "version": 3
   },
   "file_extension": ".py",
   "mimetype": "text/x-python",
   "name": "python",
   "nbconvert_exporter": "python",
   "pygments_lexer": "ipython3",
   "version": "3.9.13"
  }
 },
 "nbformat": 4,
 "nbformat_minor": 5
}
