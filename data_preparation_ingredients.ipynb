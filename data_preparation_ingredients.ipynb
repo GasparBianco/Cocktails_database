{
 "cells": [
  {
   "cell_type": "code",
   "execution_count": 1,
   "id": "5881494f",
   "metadata": {},
   "outputs": [],
   "source": [
    "import numpy as np\n",
    "import pandas as pd\n",
    "import sqlite3"
   ]
  },
  {
   "cell_type": "code",
   "execution_count": 2,
   "id": "40a5ffdc",
   "metadata": {},
   "outputs": [],
   "source": [
    "df = pd.read_csv(r'C:\\Users\\Gaspar\\Desktop\\Coctails_db\\all_drinks.csv', delimiter = \",\")"
   ]
  },
  {
   "cell_type": "code",
   "execution_count": 3,
   "id": "2ff86c43",
   "metadata": {},
   "outputs": [],
   "source": [
    "df_temp = pd.DataFrame({\"Ingredientes\":[]})"
   ]
  },
  {
   "cell_type": "code",
   "execution_count": 4,
   "id": "8f374bd3",
   "metadata": {},
   "outputs": [
    {
     "name": "stderr",
     "output_type": "stream",
     "text": [
      "C:\\Users\\Gaspar\\AppData\\Local\\Temp\\ipykernel_2596\\1735268348.py:4: FutureWarning: The frame.append method is deprecated and will be removed from pandas in a future version. Use pandas.concat instead.\n",
      "  df_temp = df_temp.append(df[string], ignore_index=True)\n",
      "C:\\Users\\Gaspar\\AppData\\Local\\Temp\\ipykernel_2596\\1735268348.py:4: FutureWarning: The frame.append method is deprecated and will be removed from pandas in a future version. Use pandas.concat instead.\n",
      "  df_temp = df_temp.append(df[string], ignore_index=True)\n",
      "C:\\Users\\Gaspar\\AppData\\Local\\Temp\\ipykernel_2596\\1735268348.py:4: FutureWarning: The frame.append method is deprecated and will be removed from pandas in a future version. Use pandas.concat instead.\n",
      "  df_temp = df_temp.append(df[string], ignore_index=True)\n",
      "C:\\Users\\Gaspar\\AppData\\Local\\Temp\\ipykernel_2596\\1735268348.py:4: FutureWarning: The frame.append method is deprecated and will be removed from pandas in a future version. Use pandas.concat instead.\n",
      "  df_temp = df_temp.append(df[string], ignore_index=True)\n",
      "C:\\Users\\Gaspar\\AppData\\Local\\Temp\\ipykernel_2596\\1735268348.py:4: FutureWarning: The frame.append method is deprecated and will be removed from pandas in a future version. Use pandas.concat instead.\n",
      "  df_temp = df_temp.append(df[string], ignore_index=True)\n",
      "C:\\Users\\Gaspar\\AppData\\Local\\Temp\\ipykernel_2596\\1735268348.py:4: FutureWarning: The frame.append method is deprecated and will be removed from pandas in a future version. Use pandas.concat instead.\n",
      "  df_temp = df_temp.append(df[string], ignore_index=True)\n",
      "C:\\Users\\Gaspar\\AppData\\Local\\Temp\\ipykernel_2596\\1735268348.py:4: FutureWarning: The frame.append method is deprecated and will be removed from pandas in a future version. Use pandas.concat instead.\n",
      "  df_temp = df_temp.append(df[string], ignore_index=True)\n",
      "C:\\Users\\Gaspar\\AppData\\Local\\Temp\\ipykernel_2596\\1735268348.py:4: FutureWarning: The frame.append method is deprecated and will be removed from pandas in a future version. Use pandas.concat instead.\n",
      "  df_temp = df_temp.append(df[string], ignore_index=True)\n",
      "C:\\Users\\Gaspar\\AppData\\Local\\Temp\\ipykernel_2596\\1735268348.py:4: FutureWarning: The frame.append method is deprecated and will be removed from pandas in a future version. Use pandas.concat instead.\n",
      "  df_temp = df_temp.append(df[string], ignore_index=True)\n",
      "C:\\Users\\Gaspar\\AppData\\Local\\Temp\\ipykernel_2596\\1735268348.py:4: FutureWarning: The frame.append method is deprecated and will be removed from pandas in a future version. Use pandas.concat instead.\n",
      "  df_temp = df_temp.append(df[string], ignore_index=True)\n",
      "C:\\Users\\Gaspar\\AppData\\Local\\Temp\\ipykernel_2596\\1735268348.py:4: FutureWarning: The frame.append method is deprecated and will be removed from pandas in a future version. Use pandas.concat instead.\n",
      "  df_temp = df_temp.append(df[string], ignore_index=True)\n",
      "C:\\Users\\Gaspar\\AppData\\Local\\Temp\\ipykernel_2596\\1735268348.py:4: FutureWarning: The frame.append method is deprecated and will be removed from pandas in a future version. Use pandas.concat instead.\n",
      "  df_temp = df_temp.append(df[string], ignore_index=True)\n",
      "C:\\Users\\Gaspar\\AppData\\Local\\Temp\\ipykernel_2596\\1735268348.py:4: FutureWarning: The frame.append method is deprecated and will be removed from pandas in a future version. Use pandas.concat instead.\n",
      "  df_temp = df_temp.append(df[string], ignore_index=True)\n",
      "C:\\Users\\Gaspar\\AppData\\Local\\Temp\\ipykernel_2596\\1735268348.py:4: FutureWarning: The frame.append method is deprecated and will be removed from pandas in a future version. Use pandas.concat instead.\n",
      "  df_temp = df_temp.append(df[string], ignore_index=True)\n",
      "C:\\Users\\Gaspar\\AppData\\Local\\Temp\\ipykernel_2596\\1735268348.py:4: FutureWarning: The frame.append method is deprecated and will be removed from pandas in a future version. Use pandas.concat instead.\n",
      "  df_temp = df_temp.append(df[string], ignore_index=True)\n"
     ]
    }
   ],
   "source": [
    "counter = np.arange(1,16)\n",
    "for i in counter:\n",
    "    string = \"strIngredient\" + str(i)\n",
    "    df_temp = df_temp.append(df[string], ignore_index=True)"
   ]
  },
  {
   "cell_type": "code",
   "execution_count": 5,
   "id": "bf8984dd",
   "metadata": {},
   "outputs": [
    {
     "data": {
      "text/plain": [
       "(15, 547)"
      ]
     },
     "execution_count": 5,
     "metadata": {},
     "output_type": "execute_result"
    }
   ],
   "source": [
    "df_temp.shape"
   ]
  },
  {
   "cell_type": "code",
   "execution_count": 6,
   "id": "5724bcfe",
   "metadata": {},
   "outputs": [],
   "source": [
    "df_temp = df_temp.stack()"
   ]
  },
  {
   "cell_type": "code",
   "execution_count": 7,
   "id": "8cba3834",
   "metadata": {},
   "outputs": [
    {
     "data": {
      "text/plain": [
       "(2144,)"
      ]
     },
     "execution_count": 7,
     "metadata": {},
     "output_type": "execute_result"
    }
   ],
   "source": [
    "df_temp.shape"
   ]
  },
  {
   "cell_type": "code",
   "execution_count": 8,
   "id": "504e2cec",
   "metadata": {},
   "outputs": [],
   "source": [
    "def to_lower(text):\n",
    "    return text.lower()\n",
    "\n",
    "\n",
    "df_temp = df_temp.apply(to_lower)"
   ]
  },
  {
   "cell_type": "code",
   "execution_count": 9,
   "id": "04fbf8b0",
   "metadata": {},
   "outputs": [],
   "source": [
    "df_temp = df_temp.drop_duplicates()"
   ]
  },
  {
   "cell_type": "code",
   "execution_count": 10,
   "id": "1095a032",
   "metadata": {},
   "outputs": [],
   "source": [
    "ids = range(1, len(df_temp) + 1)"
   ]
  },
  {
   "cell_type": "code",
   "execution_count": 11,
   "id": "985ac3c8",
   "metadata": {},
   "outputs": [],
   "source": [
    "data_dict = {'ID': ids, 'Ingredients': df_temp}\n",
    "df_ingredients = pd.DataFrame(data_dict)"
   ]
  },
  {
   "cell_type": "code",
   "execution_count": 12,
   "id": "e3e4cbf3",
   "metadata": {},
   "outputs": [
    {
     "data": {
      "text/html": [
       "<div>\n",
       "<style scoped>\n",
       "    .dataframe tbody tr th:only-of-type {\n",
       "        vertical-align: middle;\n",
       "    }\n",
       "\n",
       "    .dataframe tbody tr th {\n",
       "        vertical-align: top;\n",
       "    }\n",
       "\n",
       "    .dataframe thead th {\n",
       "        text-align: right;\n",
       "    }\n",
       "</style>\n",
       "<table border=\"1\" class=\"dataframe\">\n",
       "  <thead>\n",
       "    <tr style=\"text-align: right;\">\n",
       "      <th></th>\n",
       "      <th></th>\n",
       "      <th>ID</th>\n",
       "      <th>Ingredients</th>\n",
       "    </tr>\n",
       "  </thead>\n",
       "  <tbody>\n",
       "    <tr>\n",
       "      <th rowspan=\"5\" valign=\"top\">0</th>\n",
       "      <th>0</th>\n",
       "      <td>1</td>\n",
       "      <td>creme de cacao</td>\n",
       "    </tr>\n",
       "    <tr>\n",
       "      <th>1</th>\n",
       "      <td>2</td>\n",
       "      <td>absolut kurant</td>\n",
       "    </tr>\n",
       "    <tr>\n",
       "      <th>2</th>\n",
       "      <td>3</td>\n",
       "      <td>lager</td>\n",
       "    </tr>\n",
       "    <tr>\n",
       "      <th>3</th>\n",
       "      <td>4</td>\n",
       "      <td>malibu rum</td>\n",
       "    </tr>\n",
       "    <tr>\n",
       "      <th>4</th>\n",
       "      <td>5</td>\n",
       "      <td>dark rum</td>\n",
       "    </tr>\n",
       "    <tr>\n",
       "      <th>...</th>\n",
       "      <th>...</th>\n",
       "      <td>...</td>\n",
       "      <td>...</td>\n",
       "    </tr>\n",
       "    <tr>\n",
       "      <th rowspan=\"3\" valign=\"top\">6</th>\n",
       "      <th>156</th>\n",
       "      <td>304</td>\n",
       "      <td>mini-snickers bars</td>\n",
       "    </tr>\n",
       "    <tr>\n",
       "      <th>229</th>\n",
       "      <td>305</td>\n",
       "      <td>lavender</td>\n",
       "    </tr>\n",
       "    <tr>\n",
       "      <th>366</th>\n",
       "      <td>306</td>\n",
       "      <td>black pepper</td>\n",
       "    </tr>\n",
       "    <tr>\n",
       "      <th>7</th>\n",
       "      <th>489</th>\n",
       "      <td>307</td>\n",
       "      <td>fresca</td>\n",
       "    </tr>\n",
       "    <tr>\n",
       "      <th>10</th>\n",
       "      <th>74</th>\n",
       "      <td>308</td>\n",
       "      <td>glycerine</td>\n",
       "    </tr>\n",
       "  </tbody>\n",
       "</table>\n",
       "<p>308 rows × 2 columns</p>\n",
       "</div>"
      ],
      "text/plain": [
       "         ID         Ingredients\n",
       "0  0      1      creme de cacao\n",
       "   1      2      absolut kurant\n",
       "   2      3               lager\n",
       "   3      4          malibu rum\n",
       "   4      5            dark rum\n",
       "...     ...                 ...\n",
       "6  156  304  mini-snickers bars\n",
       "   229  305            lavender\n",
       "   366  306        black pepper\n",
       "7  489  307              fresca\n",
       "10 74   308           glycerine\n",
       "\n",
       "[308 rows x 2 columns]"
      ]
     },
     "execution_count": 12,
     "metadata": {},
     "output_type": "execute_result"
    }
   ],
   "source": [
    "df_ingredients"
   ]
  },
  {
   "cell_type": "code",
   "execution_count": 13,
   "id": "d1a9d1fd",
   "metadata": {},
   "outputs": [],
   "source": [
    "conn = sqlite3.connect('cocktails_database.db')"
   ]
  },
  {
   "cell_type": "code",
   "execution_count": 14,
   "id": "4b780116",
   "metadata": {},
   "outputs": [
    {
     "data": {
      "text/plain": [
       "308"
      ]
     },
     "execution_count": 14,
     "metadata": {},
     "output_type": "execute_result"
    }
   ],
   "source": [
    "df_ingredients.to_sql('ingredients', conn, index=False)"
   ]
  },
  {
   "cell_type": "code",
   "execution_count": 15,
   "id": "59617e4b",
   "metadata": {},
   "outputs": [],
   "source": [
    "conn.close()"
   ]
  }
 ],
 "metadata": {
  "kernelspec": {
   "display_name": "Python 3 (ipykernel)",
   "language": "python",
   "name": "python3"
  },
  "language_info": {
   "codemirror_mode": {
    "name": "ipython",
    "version": 3
   },
   "file_extension": ".py",
   "mimetype": "text/x-python",
   "name": "python",
   "nbconvert_exporter": "python",
   "pygments_lexer": "ipython3",
   "version": "3.9.13"
  }
 },
 "nbformat": 4,
 "nbformat_minor": 5
}
