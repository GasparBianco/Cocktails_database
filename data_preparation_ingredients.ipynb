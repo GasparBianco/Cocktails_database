{
 "cells": [
  {
   "cell_type": "code",
   "execution_count": 1,
   "id": "5881494f",
   "metadata": {},
   "outputs": [],
   "source": [
    "import numpy as np\n",
    "import pandas as pd\n",
    "import sqlite3"
   ]
  },
  {
   "cell_type": "code",
   "execution_count": 2,
   "id": "40a5ffdc",
   "metadata": {},
   "outputs": [],
   "source": [
    "df = pd.read_csv(r'all_drinks.csv', delimiter = \",\")"
   ]
  },
  {
   "cell_type": "code",
   "execution_count": 3,
   "id": "2ff86c43",
   "metadata": {},
   "outputs": [],
   "source": [
    "df_temp = pd.DataFrame({\"Ingredientes\":[]})"
   ]
  },
  {
   "cell_type": "code",
   "execution_count": 4,
   "id": "8f374bd3",
   "metadata": {},
   "outputs": [
    {
     "name": "stderr",
     "output_type": "stream",
     "text": [
      "C:\\Users\\Gaspar\\AppData\\Local\\Temp\\ipykernel_18656\\1735268348.py:4: FutureWarning: The frame.append method is deprecated and will be removed from pandas in a future version. Use pandas.concat instead.\n",
      "  df_temp = df_temp.append(df[string], ignore_index=True)\n",
      "C:\\Users\\Gaspar\\AppData\\Local\\Temp\\ipykernel_18656\\1735268348.py:4: FutureWarning: The frame.append method is deprecated and will be removed from pandas in a future version. Use pandas.concat instead.\n",
      "  df_temp = df_temp.append(df[string], ignore_index=True)\n",
      "C:\\Users\\Gaspar\\AppData\\Local\\Temp\\ipykernel_18656\\1735268348.py:4: FutureWarning: The frame.append method is deprecated and will be removed from pandas in a future version. Use pandas.concat instead.\n",
      "  df_temp = df_temp.append(df[string], ignore_index=True)\n",
      "C:\\Users\\Gaspar\\AppData\\Local\\Temp\\ipykernel_18656\\1735268348.py:4: FutureWarning: The frame.append method is deprecated and will be removed from pandas in a future version. Use pandas.concat instead.\n",
      "  df_temp = df_temp.append(df[string], ignore_index=True)\n",
      "C:\\Users\\Gaspar\\AppData\\Local\\Temp\\ipykernel_18656\\1735268348.py:4: FutureWarning: The frame.append method is deprecated and will be removed from pandas in a future version. Use pandas.concat instead.\n",
      "  df_temp = df_temp.append(df[string], ignore_index=True)\n",
      "C:\\Users\\Gaspar\\AppData\\Local\\Temp\\ipykernel_18656\\1735268348.py:4: FutureWarning: The frame.append method is deprecated and will be removed from pandas in a future version. Use pandas.concat instead.\n",
      "  df_temp = df_temp.append(df[string], ignore_index=True)\n",
      "C:\\Users\\Gaspar\\AppData\\Local\\Temp\\ipykernel_18656\\1735268348.py:4: FutureWarning: The frame.append method is deprecated and will be removed from pandas in a future version. Use pandas.concat instead.\n",
      "  df_temp = df_temp.append(df[string], ignore_index=True)\n",
      "C:\\Users\\Gaspar\\AppData\\Local\\Temp\\ipykernel_18656\\1735268348.py:4: FutureWarning: The frame.append method is deprecated and will be removed from pandas in a future version. Use pandas.concat instead.\n",
      "  df_temp = df_temp.append(df[string], ignore_index=True)\n",
      "C:\\Users\\Gaspar\\AppData\\Local\\Temp\\ipykernel_18656\\1735268348.py:4: FutureWarning: The frame.append method is deprecated and will be removed from pandas in a future version. Use pandas.concat instead.\n",
      "  df_temp = df_temp.append(df[string], ignore_index=True)\n",
      "C:\\Users\\Gaspar\\AppData\\Local\\Temp\\ipykernel_18656\\1735268348.py:4: FutureWarning: The frame.append method is deprecated and will be removed from pandas in a future version. Use pandas.concat instead.\n",
      "  df_temp = df_temp.append(df[string], ignore_index=True)\n",
      "C:\\Users\\Gaspar\\AppData\\Local\\Temp\\ipykernel_18656\\1735268348.py:4: FutureWarning: The frame.append method is deprecated and will be removed from pandas in a future version. Use pandas.concat instead.\n",
      "  df_temp = df_temp.append(df[string], ignore_index=True)\n",
      "C:\\Users\\Gaspar\\AppData\\Local\\Temp\\ipykernel_18656\\1735268348.py:4: FutureWarning: The frame.append method is deprecated and will be removed from pandas in a future version. Use pandas.concat instead.\n",
      "  df_temp = df_temp.append(df[string], ignore_index=True)\n",
      "C:\\Users\\Gaspar\\AppData\\Local\\Temp\\ipykernel_18656\\1735268348.py:4: FutureWarning: The frame.append method is deprecated and will be removed from pandas in a future version. Use pandas.concat instead.\n",
      "  df_temp = df_temp.append(df[string], ignore_index=True)\n",
      "C:\\Users\\Gaspar\\AppData\\Local\\Temp\\ipykernel_18656\\1735268348.py:4: FutureWarning: The frame.append method is deprecated and will be removed from pandas in a future version. Use pandas.concat instead.\n",
      "  df_temp = df_temp.append(df[string], ignore_index=True)\n",
      "C:\\Users\\Gaspar\\AppData\\Local\\Temp\\ipykernel_18656\\1735268348.py:4: FutureWarning: The frame.append method is deprecated and will be removed from pandas in a future version. Use pandas.concat instead.\n",
      "  df_temp = df_temp.append(df[string], ignore_index=True)\n"
     ]
    }
   ],
   "source": [
    "counter = np.arange(1,16)\n",
    "for i in counter:\n",
    "    string = \"strIngredient\" + str(i)\n",
    "    df_temp = df_temp.append(df[string], ignore_index=True)"
   ]
  },
  {
   "cell_type": "code",
   "execution_count": 5,
   "id": "bf8984dd",
   "metadata": {},
   "outputs": [
    {
     "data": {
      "text/plain": [
       "(15, 547)"
      ]
     },
     "execution_count": 5,
     "metadata": {},
     "output_type": "execute_result"
    }
   ],
   "source": [
    "df_temp.shape"
   ]
  },
  {
   "cell_type": "code",
   "execution_count": 6,
   "id": "5724bcfe",
   "metadata": {},
   "outputs": [],
   "source": [
    "df_temp = df_temp.stack()"
   ]
  },
  {
   "cell_type": "code",
   "execution_count": 7,
   "id": "8cba3834",
   "metadata": {},
   "outputs": [
    {
     "data": {
      "text/plain": [
       "(2144,)"
      ]
     },
     "execution_count": 7,
     "metadata": {},
     "output_type": "execute_result"
    }
   ],
   "source": [
    "df_temp.shape"
   ]
  },
  {
   "cell_type": "code",
   "execution_count": 8,
   "id": "504e2cec",
   "metadata": {},
   "outputs": [],
   "source": [
    "def to_lower(text):\n",
    "    return text.lower()\n",
    "\n",
    "\n",
    "df_temp = df_temp.apply(to_lower)"
   ]
  },
  {
   "cell_type": "code",
   "execution_count": 9,
   "id": "04fbf8b0",
   "metadata": {},
   "outputs": [],
   "source": [
    "df_temp = df_temp.drop_duplicates()"
   ]
  },
  {
   "cell_type": "code",
   "execution_count": 10,
   "id": "1095a032",
   "metadata": {},
   "outputs": [],
   "source": [
    "ids = range(1, len(df_temp) + 1)"
   ]
  },
  {
   "cell_type": "code",
   "execution_count": 11,
   "id": "985ac3c8",
   "metadata": {},
   "outputs": [],
   "source": [
    "data_dict = {'ingredient': df_temp}\n",
    "df_ingredients = pd.DataFrame(data_dict)"
   ]
  },
  {
   "cell_type": "code",
   "execution_count": 12,
   "id": "e3e4cbf3",
   "metadata": {},
   "outputs": [
    {
     "data": {
      "text/html": [
       "<div>\n",
       "<style scoped>\n",
       "    .dataframe tbody tr th:only-of-type {\n",
       "        vertical-align: middle;\n",
       "    }\n",
       "\n",
       "    .dataframe tbody tr th {\n",
       "        vertical-align: top;\n",
       "    }\n",
       "\n",
       "    .dataframe thead th {\n",
       "        text-align: right;\n",
       "    }\n",
       "</style>\n",
       "<table border=\"1\" class=\"dataframe\">\n",
       "  <thead>\n",
       "    <tr style=\"text-align: right;\">\n",
       "      <th></th>\n",
       "      <th></th>\n",
       "      <th>ingredient</th>\n",
       "    </tr>\n",
       "  </thead>\n",
       "  <tbody>\n",
       "    <tr>\n",
       "      <th rowspan=\"5\" valign=\"top\">0</th>\n",
       "      <th>0</th>\n",
       "      <td>creme de cacao</td>\n",
       "    </tr>\n",
       "    <tr>\n",
       "      <th>1</th>\n",
       "      <td>absolut kurant</td>\n",
       "    </tr>\n",
       "    <tr>\n",
       "      <th>2</th>\n",
       "      <td>lager</td>\n",
       "    </tr>\n",
       "    <tr>\n",
       "      <th>3</th>\n",
       "      <td>malibu rum</td>\n",
       "    </tr>\n",
       "    <tr>\n",
       "      <th>4</th>\n",
       "      <td>dark rum</td>\n",
       "    </tr>\n",
       "    <tr>\n",
       "      <th>...</th>\n",
       "      <th>...</th>\n",
       "      <td>...</td>\n",
       "    </tr>\n",
       "    <tr>\n",
       "      <th rowspan=\"3\" valign=\"top\">6</th>\n",
       "      <th>156</th>\n",
       "      <td>mini-snickers bars</td>\n",
       "    </tr>\n",
       "    <tr>\n",
       "      <th>229</th>\n",
       "      <td>lavender</td>\n",
       "    </tr>\n",
       "    <tr>\n",
       "      <th>366</th>\n",
       "      <td>black pepper</td>\n",
       "    </tr>\n",
       "    <tr>\n",
       "      <th>7</th>\n",
       "      <th>489</th>\n",
       "      <td>fresca</td>\n",
       "    </tr>\n",
       "    <tr>\n",
       "      <th>10</th>\n",
       "      <th>74</th>\n",
       "      <td>glycerine</td>\n",
       "    </tr>\n",
       "  </tbody>\n",
       "</table>\n",
       "<p>308 rows × 1 columns</p>\n",
       "</div>"
      ],
      "text/plain": [
       "                ingredient\n",
       "0  0        creme de cacao\n",
       "   1        absolut kurant\n",
       "   2                 lager\n",
       "   3            malibu rum\n",
       "   4              dark rum\n",
       "...                    ...\n",
       "6  156  mini-snickers bars\n",
       "   229            lavender\n",
       "   366        black pepper\n",
       "7  489              fresca\n",
       "10 74            glycerine\n",
       "\n",
       "[308 rows x 1 columns]"
      ]
     },
     "execution_count": 12,
     "metadata": {},
     "output_type": "execute_result"
    }
   ],
   "source": [
    "df_ingredients"
   ]
  },
  {
   "cell_type": "code",
   "execution_count": 13,
   "id": "d1a9d1fd",
   "metadata": {},
   "outputs": [],
   "source": [
    "conn = sqlite3.connect('cocktails_database.db')"
   ]
  },
  {
   "cell_type": "code",
   "execution_count": 14,
   "id": "51e43a61",
   "metadata": {},
   "outputs": [],
   "source": [
    "cursor = conn.cursor()"
   ]
  },
  {
   "cell_type": "code",
   "execution_count": 15,
   "id": "c05cf4cf",
   "metadata": {},
   "outputs": [
    {
     "data": {
      "text/plain": [
       "<sqlite3.Cursor at 0x1fabf215d50>"
      ]
     },
     "execution_count": 15,
     "metadata": {},
     "output_type": "execute_result"
    }
   ],
   "source": [
    "cursor.execute('''\n",
    "    CREATE TABLE ingredient (\n",
    "        id INTEGER PRIMARY KEY AUTOINCREMENT,\n",
    "        ingredient VARCHAR(255)\n",
    "    )\n",
    "''')"
   ]
  },
  {
   "cell_type": "code",
   "execution_count": 16,
   "id": "89114089",
   "metadata": {},
   "outputs": [],
   "source": [
    "conn.commit()"
   ]
  },
  {
   "cell_type": "code",
   "execution_count": 17,
   "id": "4b780116",
   "metadata": {},
   "outputs": [
    {
     "data": {
      "text/plain": [
       "308"
      ]
     },
     "execution_count": 17,
     "metadata": {},
     "output_type": "execute_result"
    }
   ],
   "source": [
    "df_ingredients.to_sql('ingredient', conn, index=False, if_exists = 'append')"
   ]
  },
  {
   "cell_type": "code",
   "execution_count": 18,
   "id": "292229b9",
   "metadata": {},
   "outputs": [],
   "source": [
    "conn.commit()"
   ]
  },
  {
   "cell_type": "code",
   "execution_count": 19,
   "id": "59617e4b",
   "metadata": {},
   "outputs": [],
   "source": [
    "conn.close()"
   ]
  },
  {
   "cell_type": "code",
   "execution_count": null,
   "id": "47dcf873",
   "metadata": {},
   "outputs": [],
   "source": []
  }
 ],
 "metadata": {
  "kernelspec": {
   "display_name": "Python 3 (ipykernel)",
   "language": "python",
   "name": "python3"
  },
  "language_info": {
   "codemirror_mode": {
    "name": "ipython",
    "version": 3
   },
   "file_extension": ".py",
   "mimetype": "text/x-python",
   "name": "python",
   "nbconvert_exporter": "python",
   "pygments_lexer": "ipython3",
   "version": "3.9.13"
  }
 },
 "nbformat": 4,
 "nbformat_minor": 5
}
