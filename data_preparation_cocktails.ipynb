{
 "cells": [
  {
   "cell_type": "code",
   "execution_count": 1,
   "id": "b873857a",
   "metadata": {},
   "outputs": [],
   "source": [
    "import numpy as np\n",
    "import pandas as pd\n",
    "import sqlite3"
   ]
  },
  {
   "cell_type": "code",
   "execution_count": 2,
   "id": "0f699387",
   "metadata": {},
   "outputs": [],
   "source": [
    "df = pd.read_csv(r'C:\\Users\\Gaspar\\Desktop\\Coctails_db\\all_drinks.csv', delimiter = \",\")"
   ]
  },
  {
   "cell_type": "code",
   "execution_count": 3,
   "id": "50e5630a",
   "metadata": {},
   "outputs": [],
   "source": [
    "def to_lower(text):\n",
    "    return text.lower()\n",
    "\n",
    "\n",
    "df['strGlass'] = df['strGlass'].apply(to_lower)\n",
    "df['strCategory'] = df['strCategory'].apply(to_lower)"
   ]
  },
  {
   "cell_type": "code",
   "execution_count": 4,
   "id": "1b21e6dc",
   "metadata": {},
   "outputs": [],
   "source": [
    "conn = sqlite3.connect('cocktails_database.db')"
   ]
  },
  {
   "cell_type": "code",
   "execution_count": 5,
   "id": "b32041aa",
   "metadata": {},
   "outputs": [],
   "source": [
    "df_glass = pd.read_sql_query(\"SELECT * FROM glass\", conn)"
   ]
  },
  {
   "cell_type": "code",
   "execution_count": 6,
   "id": "b7985647",
   "metadata": {},
   "outputs": [],
   "source": [
    "df = pd.merge(df, df_glass, left_on='strGlass', right_on='Glass')"
   ]
  },
  {
   "cell_type": "code",
   "execution_count": 7,
   "id": "f28e1f8e",
   "metadata": {},
   "outputs": [],
   "source": [
    "df = df.rename(columns={'ID': 'id_glass'})"
   ]
  },
  {
   "cell_type": "code",
   "execution_count": 8,
   "id": "15a3c534",
   "metadata": {},
   "outputs": [],
   "source": [
    "df_categories = pd.read_sql_query(\"SELECT * FROM category\", conn)"
   ]
  },
  {
   "cell_type": "code",
   "execution_count": 9,
   "id": "81c68298",
   "metadata": {},
   "outputs": [],
   "source": [
    "df = pd.merge(df, df_categories, left_on='strCategory', right_on='Category')"
   ]
  },
  {
   "cell_type": "code",
   "execution_count": 10,
   "id": "39f2f6fc",
   "metadata": {},
   "outputs": [],
   "source": [
    "df = df.rename(columns={'ID': 'id_category'})"
   ]
  },
  {
   "cell_type": "code",
   "execution_count": 11,
   "id": "522e0ba0",
   "metadata": {},
   "outputs": [],
   "source": [
    "df = df.sort_values(by = 'strDrink')"
   ]
  },
  {
   "cell_type": "code",
   "execution_count": 12,
   "id": "ee1e4ef9",
   "metadata": {},
   "outputs": [],
   "source": [
    "df_temp = pd.DataFrame()"
   ]
  },
  {
   "cell_type": "code",
   "execution_count": 13,
   "id": "83ed6f66",
   "metadata": {},
   "outputs": [],
   "source": [
    "df_temp = df[['strDrink', 'strInstructions', 'id_glass', 'id_category']]"
   ]
  },
  {
   "cell_type": "code",
   "execution_count": 14,
   "id": "4f8f0a5e",
   "metadata": {},
   "outputs": [],
   "source": [
    "df_temp = df_temp.rename(columns={'strDrink': 'Cocktail', 'strInstructions': 'Instruction'})"
   ]
  },
  {
   "cell_type": "code",
   "execution_count": 15,
   "id": "db47a88c",
   "metadata": {},
   "outputs": [],
   "source": [
    "ids = range(1, len(df_temp) + 1)"
   ]
  },
  {
   "cell_type": "code",
   "execution_count": 16,
   "id": "f7da2e19",
   "metadata": {},
   "outputs": [],
   "source": [
    "data_dict = {'ID': ids, 'Cocktails': df_temp['Cocktail'], 'Instruction': df_temp['Instruction'],\n",
    "             'id_glass': df_temp['id_glass'],'id_category': df_temp['id_category']}\n",
    "df_cocktail = pd.DataFrame(data_dict)"
   ]
  },
  {
   "cell_type": "code",
   "execution_count": 17,
   "id": "277b4e17",
   "metadata": {},
   "outputs": [
    {
     "data": {
      "text/html": [
       "<div>\n",
       "<style scoped>\n",
       "    .dataframe tbody tr th:only-of-type {\n",
       "        vertical-align: middle;\n",
       "    }\n",
       "\n",
       "    .dataframe tbody tr th {\n",
       "        vertical-align: top;\n",
       "    }\n",
       "\n",
       "    .dataframe thead th {\n",
       "        text-align: right;\n",
       "    }\n",
       "</style>\n",
       "<table border=\"1\" class=\"dataframe\">\n",
       "  <thead>\n",
       "    <tr style=\"text-align: right;\">\n",
       "      <th></th>\n",
       "      <th>ID</th>\n",
       "      <th>Cocktails</th>\n",
       "      <th>Instruction</th>\n",
       "      <th>id_glass</th>\n",
       "      <th>id_category</th>\n",
       "    </tr>\n",
       "  </thead>\n",
       "  <tbody>\n",
       "    <tr>\n",
       "      <th>0</th>\n",
       "      <td>1</td>\n",
       "      <td>'57 Chevy with a White License Plate</td>\n",
       "      <td>1. Fill a rocks glass with ice 2.add white cre...</td>\n",
       "      <td>1</td>\n",
       "      <td>1</td>\n",
       "    </tr>\n",
       "    <tr>\n",
       "      <th>375</th>\n",
       "      <td>2</td>\n",
       "      <td>1-900-FUK-MEUP</td>\n",
       "      <td>Shake ingredients in a mixing tin filled with ...</td>\n",
       "      <td>2</td>\n",
       "      <td>2</td>\n",
       "    </tr>\n",
       "    <tr>\n",
       "      <th>476</th>\n",
       "      <td>3</td>\n",
       "      <td>110 in the shade</td>\n",
       "      <td>Drop shooter in glass. Fill with beer</td>\n",
       "      <td>3</td>\n",
       "      <td>3</td>\n",
       "    </tr>\n",
       "    <tr>\n",
       "      <th>428</th>\n",
       "      <td>4</td>\n",
       "      <td>151 Florida Bushwacker</td>\n",
       "      <td>Combine all ingredients. Blend until smooth. G...</td>\n",
       "      <td>4</td>\n",
       "      <td>4</td>\n",
       "    </tr>\n",
       "    <tr>\n",
       "      <th>20</th>\n",
       "      <td>5</td>\n",
       "      <td>155 Belmont</td>\n",
       "      <td>Blend with ice. Serve in a wine glass. Garnish...</td>\n",
       "      <td>5</td>\n",
       "      <td>1</td>\n",
       "    </tr>\n",
       "  </tbody>\n",
       "</table>\n",
       "</div>"
      ],
      "text/plain": [
       "     ID                             Cocktails  \\\n",
       "0     1  '57 Chevy with a White License Plate   \n",
       "375   2                        1-900-FUK-MEUP   \n",
       "476   3                      110 in the shade   \n",
       "428   4                151 Florida Bushwacker   \n",
       "20    5                           155 Belmont   \n",
       "\n",
       "                                           Instruction  id_glass  id_category  \n",
       "0    1. Fill a rocks glass with ice 2.add white cre...         1            1  \n",
       "375  Shake ingredients in a mixing tin filled with ...         2            2  \n",
       "476              Drop shooter in glass. Fill with beer         3            3  \n",
       "428  Combine all ingredients. Blend until smooth. G...         4            4  \n",
       "20   Blend with ice. Serve in a wine glass. Garnish...         5            1  "
      ]
     },
     "execution_count": 17,
     "metadata": {},
     "output_type": "execute_result"
    }
   ],
   "source": [
    "df_cocktail.head()"
   ]
  },
  {
   "cell_type": "code",
   "execution_count": 18,
   "id": "c311abf5",
   "metadata": {},
   "outputs": [
    {
     "data": {
      "text/plain": [
       "546"
      ]
     },
     "execution_count": 18,
     "metadata": {},
     "output_type": "execute_result"
    }
   ],
   "source": [
    "df_cocktail.to_sql('cocktail', conn, index=False, if_exists='replace')"
   ]
  },
  {
   "cell_type": "code",
   "execution_count": 19,
   "id": "880d1972",
   "metadata": {},
   "outputs": [],
   "source": [
    "conn.close()"
   ]
  },
  {
   "cell_type": "code",
   "execution_count": null,
   "id": "9fc7a245",
   "metadata": {},
   "outputs": [],
   "source": []
  }
 ],
 "metadata": {
  "kernelspec": {
   "display_name": "Python 3 (ipykernel)",
   "language": "python",
   "name": "python3"
  },
  "language_info": {
   "codemirror_mode": {
    "name": "ipython",
    "version": 3
   },
   "file_extension": ".py",
   "mimetype": "text/x-python",
   "name": "python",
   "nbconvert_exporter": "python",
   "pygments_lexer": "ipython3",
   "version": "3.9.13"
  }
 },
 "nbformat": 4,
 "nbformat_minor": 5
}
