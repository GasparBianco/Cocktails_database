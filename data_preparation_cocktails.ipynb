{
 "cells": [
  {
   "cell_type": "code",
   "execution_count": 1,
   "id": "b873857a",
   "metadata": {},
   "outputs": [],
   "source": [
    "import numpy as np\n",
    "import pandas as pd\n",
    "import sqlite3"
   ]
  },
  {
   "cell_type": "code",
   "execution_count": 2,
   "id": "0f699387",
   "metadata": {},
   "outputs": [],
   "source": [
    "df = pd.read_csv(r'all_drinks.csv', delimiter = \",\")"
   ]
  },
  {
   "cell_type": "code",
   "execution_count": 3,
   "id": "50e5630a",
   "metadata": {},
   "outputs": [],
   "source": [
    "def to_lower(text):\n",
    "    return text.lower()\n",
    "\n",
    "\n",
    "df['strGlass'] = df['strGlass'].apply(to_lower)\n",
    "df['strCategory'] = df['strCategory'].apply(to_lower)"
   ]
  },
  {
   "cell_type": "code",
   "execution_count": 4,
   "id": "1b21e6dc",
   "metadata": {},
   "outputs": [],
   "source": [
    "conn = sqlite3.connect('cocktails_database.db')"
   ]
  },
  {
   "cell_type": "code",
   "execution_count": 5,
   "id": "b32041aa",
   "metadata": {},
   "outputs": [],
   "source": [
    "df_glass = pd.read_sql_query(\"SELECT * FROM glass\", conn)"
   ]
  },
  {
   "cell_type": "code",
   "execution_count": 6,
   "id": "b7985647",
   "metadata": {},
   "outputs": [],
   "source": [
    "df = pd.merge(df, df_glass, left_on='strGlass', right_on='glass')"
   ]
  },
  {
   "cell_type": "code",
   "execution_count": 7,
   "id": "29855ab3",
   "metadata": {},
   "outputs": [
    {
     "data": {
      "text/plain": [
       "Index(['Unnamed: 0', 'strDrink', 'dateModified', 'idDrink', 'strAlcoholic',\n",
       "       'strCategory', 'strDrinkThumb', 'strGlass', 'strIBA', 'strIngredient1',\n",
       "       'strIngredient10', 'strIngredient11', 'strIngredient12',\n",
       "       'strIngredient13', 'strIngredient14', 'strIngredient15',\n",
       "       'strIngredient2', 'strIngredient3', 'strIngredient4', 'strIngredient5',\n",
       "       'strIngredient6', 'strIngredient7', 'strIngredient8', 'strIngredient9',\n",
       "       'strInstructions', 'strMeasure1', 'strMeasure10', 'strMeasure11',\n",
       "       'strMeasure12', 'strMeasure13', 'strMeasure14', 'strMeasure15',\n",
       "       'strMeasure2', 'strMeasure3', 'strMeasure4', 'strMeasure5',\n",
       "       'strMeasure6', 'strMeasure7', 'strMeasure8', 'strMeasure9', 'strVideo',\n",
       "       'id', 'glass'],\n",
       "      dtype='object')"
      ]
     },
     "execution_count": 7,
     "metadata": {},
     "output_type": "execute_result"
    }
   ],
   "source": [
    "df.columns"
   ]
  },
  {
   "cell_type": "code",
   "execution_count": 8,
   "id": "f28e1f8e",
   "metadata": {},
   "outputs": [],
   "source": [
    "df = df.rename(columns={'id': 'id_glass'})"
   ]
  },
  {
   "cell_type": "code",
   "execution_count": 9,
   "id": "1b43b2d7",
   "metadata": {},
   "outputs": [
    {
     "data": {
      "text/plain": [
       "Index(['Unnamed: 0', 'strDrink', 'dateModified', 'idDrink', 'strAlcoholic',\n",
       "       'strCategory', 'strDrinkThumb', 'strGlass', 'strIBA', 'strIngredient1',\n",
       "       'strIngredient10', 'strIngredient11', 'strIngredient12',\n",
       "       'strIngredient13', 'strIngredient14', 'strIngredient15',\n",
       "       'strIngredient2', 'strIngredient3', 'strIngredient4', 'strIngredient5',\n",
       "       'strIngredient6', 'strIngredient7', 'strIngredient8', 'strIngredient9',\n",
       "       'strInstructions', 'strMeasure1', 'strMeasure10', 'strMeasure11',\n",
       "       'strMeasure12', 'strMeasure13', 'strMeasure14', 'strMeasure15',\n",
       "       'strMeasure2', 'strMeasure3', 'strMeasure4', 'strMeasure5',\n",
       "       'strMeasure6', 'strMeasure7', 'strMeasure8', 'strMeasure9', 'strVideo',\n",
       "       'id_glass', 'glass'],\n",
       "      dtype='object')"
      ]
     },
     "execution_count": 9,
     "metadata": {},
     "output_type": "execute_result"
    }
   ],
   "source": [
    "df.columns"
   ]
  },
  {
   "cell_type": "code",
   "execution_count": 10,
   "id": "15a3c534",
   "metadata": {},
   "outputs": [],
   "source": [
    "df_categories = pd.read_sql_query(\"SELECT * FROM category\", conn)"
   ]
  },
  {
   "cell_type": "code",
   "execution_count": 11,
   "id": "81c68298",
   "metadata": {},
   "outputs": [],
   "source": [
    "df = pd.merge(df, df_categories, left_on='strCategory', right_on='category')"
   ]
  },
  {
   "cell_type": "code",
   "execution_count": 12,
   "id": "39f2f6fc",
   "metadata": {},
   "outputs": [],
   "source": [
    "df = df.rename(columns={'id': 'id_category'})"
   ]
  },
  {
   "cell_type": "code",
   "execution_count": 13,
   "id": "522e0ba0",
   "metadata": {},
   "outputs": [],
   "source": [
    "df = df.sort_values(by = 'strDrink')"
   ]
  },
  {
   "cell_type": "code",
   "execution_count": 14,
   "id": "ee1e4ef9",
   "metadata": {},
   "outputs": [],
   "source": [
    "df_temp = pd.DataFrame()"
   ]
  },
  {
   "cell_type": "code",
   "execution_count": 15,
   "id": "83ed6f66",
   "metadata": {},
   "outputs": [],
   "source": [
    "df_temp = df[['strDrink', 'strInstructions', 'id_glass', 'id_category']]"
   ]
  },
  {
   "cell_type": "code",
   "execution_count": 16,
   "id": "4f8f0a5e",
   "metadata": {},
   "outputs": [],
   "source": [
    "df_temp = df_temp.rename(columns={'strDrink': 'cocktail', 'strInstructions': 'instruction'})"
   ]
  },
  {
   "cell_type": "code",
   "execution_count": 17,
   "id": "db47a88c",
   "metadata": {},
   "outputs": [],
   "source": [
    "ids = range(1, len(df_temp) + 1)"
   ]
  },
  {
   "cell_type": "code",
   "execution_count": 20,
   "id": "f7da2e19",
   "metadata": {},
   "outputs": [],
   "source": [
    "data_dict = {'cocktail': df_temp['cocktail'], 'instruction': df_temp['instruction'],\n",
    "             'id_glass': df_temp['id_glass'],'id_category': df_temp['id_category']}\n",
    "df_cocktail = pd.DataFrame(data_dict)"
   ]
  },
  {
   "cell_type": "code",
   "execution_count": 21,
   "id": "277b4e17",
   "metadata": {},
   "outputs": [],
   "source": [
    "cursor = conn.cursor()"
   ]
  },
  {
   "cell_type": "code",
   "execution_count": 22,
   "id": "caff0452",
   "metadata": {},
   "outputs": [
    {
     "data": {
      "text/plain": [
       "<sqlite3.Cursor at 0x18963717e30>"
      ]
     },
     "execution_count": 22,
     "metadata": {},
     "output_type": "execute_result"
    }
   ],
   "source": [
    "cursor.execute('''\n",
    "    CREATE TABLE cocktail (\n",
    "        id INTEGER PRIMARY KEY AUTOINCREMENT,\n",
    "        cocktail VARCHAR(255),\n",
    "        instruction TEXT,\n",
    "        id_glass INTEGER,\n",
    "        id_category INTEGER,\n",
    "        FOREIGN KEY (\"id_glass\") REFERENCES glass (id),\n",
    "        FOREIGN KEY (\"id_category\") REFERENCES category (id)\n",
    "    )\n",
    "''')"
   ]
  },
  {
   "cell_type": "code",
   "execution_count": 23,
   "id": "8e6bcf4a",
   "metadata": {},
   "outputs": [],
   "source": [
    "conn.commit()"
   ]
  },
  {
   "cell_type": "code",
   "execution_count": 24,
   "id": "c311abf5",
   "metadata": {},
   "outputs": [
    {
     "data": {
      "text/plain": [
       "546"
      ]
     },
     "execution_count": 24,
     "metadata": {},
     "output_type": "execute_result"
    }
   ],
   "source": [
    "df_cocktail.to_sql('cocktail', conn, index=False, if_exists='append')"
   ]
  },
  {
   "cell_type": "code",
   "execution_count": 25,
   "id": "ddba9ac6",
   "metadata": {},
   "outputs": [],
   "source": [
    "conn.commit()"
   ]
  },
  {
   "cell_type": "code",
   "execution_count": 26,
   "id": "880d1972",
   "metadata": {},
   "outputs": [],
   "source": [
    "conn.close()"
   ]
  },
  {
   "cell_type": "code",
   "execution_count": null,
   "id": "9fc7a245",
   "metadata": {},
   "outputs": [],
   "source": []
  }
 ],
 "metadata": {
  "kernelspec": {
   "display_name": "Python 3 (ipykernel)",
   "language": "python",
   "name": "python3"
  },
  "language_info": {
   "codemirror_mode": {
    "name": "ipython",
    "version": 3
   },
   "file_extension": ".py",
   "mimetype": "text/x-python",
   "name": "python",
   "nbconvert_exporter": "python",
   "pygments_lexer": "ipython3",
   "version": "3.9.13"
  }
 },
 "nbformat": 4,
 "nbformat_minor": 5
}
