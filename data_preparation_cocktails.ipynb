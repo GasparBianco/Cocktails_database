{
 "cells": [
  {
   "cell_type": "code",
   "execution_count": 1,
   "id": "b873857a",
   "metadata": {},
   "outputs": [],
   "source": [
    "import numpy as np\n",
    "import pandas as pd\n",
    "import sqlite3"
   ]
  },
  {
   "cell_type": "code",
   "execution_count": 24,
   "id": "0f699387",
   "metadata": {},
   "outputs": [],
   "source": [
    "df = pd.read_csv(r'C:\\Users\\Gaspar\\Desktop\\Coctails_db\\all_drinks.csv', delimiter = \",\")"
   ]
  },
  {
   "cell_type": "code",
   "execution_count": 25,
   "id": "ee1e4ef9",
   "metadata": {},
   "outputs": [],
   "source": [
    "df_temp = pd.DataFrame()"
   ]
  },
  {
   "cell_type": "code",
   "execution_count": 26,
   "id": "83ed6f66",
   "metadata": {},
   "outputs": [],
   "source": [
    "df_temp = df[['strDrink', 'strInstructions']]"
   ]
  },
  {
   "cell_type": "code",
   "execution_count": 27,
   "id": "4f8f0a5e",
   "metadata": {},
   "outputs": [],
   "source": [
    "df_temp = df_temp.rename(columns={'strDrink': 'Cocktail', 'strInstructions': 'Instruction'})"
   ]
  },
  {
   "cell_type": "code",
   "execution_count": 28,
   "id": "db47a88c",
   "metadata": {},
   "outputs": [],
   "source": [
    "ids = range(1, len(df_temp) + 1)"
   ]
  },
  {
   "cell_type": "code",
   "execution_count": 30,
   "id": "f7da2e19",
   "metadata": {},
   "outputs": [],
   "source": [
    "data_dict = {'ID': ids, 'Cocktails': df_temp['Cocktail'], 'Instruction': df_temp['Instruction']}\n",
    "df_cocktail = pd.DataFrame(data_dict)"
   ]
  },
  {
   "cell_type": "code",
   "execution_count": 31,
   "id": "277b4e17",
   "metadata": {},
   "outputs": [
    {
     "data": {
      "text/html": [
       "<div>\n",
       "<style scoped>\n",
       "    .dataframe tbody tr th:only-of-type {\n",
       "        vertical-align: middle;\n",
       "    }\n",
       "\n",
       "    .dataframe tbody tr th {\n",
       "        vertical-align: top;\n",
       "    }\n",
       "\n",
       "    .dataframe thead th {\n",
       "        text-align: right;\n",
       "    }\n",
       "</style>\n",
       "<table border=\"1\" class=\"dataframe\">\n",
       "  <thead>\n",
       "    <tr style=\"text-align: right;\">\n",
       "      <th></th>\n",
       "      <th>ID</th>\n",
       "      <th>Cocktails</th>\n",
       "      <th>Instruction</th>\n",
       "    </tr>\n",
       "  </thead>\n",
       "  <tbody>\n",
       "    <tr>\n",
       "      <th>0</th>\n",
       "      <td>1</td>\n",
       "      <td>'57 Chevy with a White License Plate</td>\n",
       "      <td>1. Fill a rocks glass with ice 2.add white cre...</td>\n",
       "    </tr>\n",
       "    <tr>\n",
       "      <th>1</th>\n",
       "      <td>2</td>\n",
       "      <td>1-900-FUK-MEUP</td>\n",
       "      <td>Shake ingredients in a mixing tin filled with ...</td>\n",
       "    </tr>\n",
       "    <tr>\n",
       "      <th>2</th>\n",
       "      <td>3</td>\n",
       "      <td>110 in the shade</td>\n",
       "      <td>Drop shooter in glass. Fill with beer</td>\n",
       "    </tr>\n",
       "    <tr>\n",
       "      <th>3</th>\n",
       "      <td>4</td>\n",
       "      <td>151 Florida Bushwacker</td>\n",
       "      <td>Combine all ingredients. Blend until smooth. G...</td>\n",
       "    </tr>\n",
       "    <tr>\n",
       "      <th>4</th>\n",
       "      <td>5</td>\n",
       "      <td>155 Belmont</td>\n",
       "      <td>Blend with ice. Serve in a wine glass. Garnish...</td>\n",
       "    </tr>\n",
       "  </tbody>\n",
       "</table>\n",
       "</div>"
      ],
      "text/plain": [
       "   ID                             Cocktails  \\\n",
       "0   1  '57 Chevy with a White License Plate   \n",
       "1   2                        1-900-FUK-MEUP   \n",
       "2   3                      110 in the shade   \n",
       "3   4                151 Florida Bushwacker   \n",
       "4   5                           155 Belmont   \n",
       "\n",
       "                                         Instruction  \n",
       "0  1. Fill a rocks glass with ice 2.add white cre...  \n",
       "1  Shake ingredients in a mixing tin filled with ...  \n",
       "2              Drop shooter in glass. Fill with beer  \n",
       "3  Combine all ingredients. Blend until smooth. G...  \n",
       "4  Blend with ice. Serve in a wine glass. Garnish...  "
      ]
     },
     "execution_count": 31,
     "metadata": {},
     "output_type": "execute_result"
    }
   ],
   "source": [
    "df_cocktail.head()"
   ]
  },
  {
   "cell_type": "code",
   "execution_count": 32,
   "id": "c7de6467",
   "metadata": {},
   "outputs": [],
   "source": [
    "conn = sqlite3.connect('cocktails_database.db')"
   ]
  },
  {
   "cell_type": "code",
   "execution_count": 36,
   "id": "c311abf5",
   "metadata": {},
   "outputs": [
    {
     "data": {
      "text/plain": [
       "546"
      ]
     },
     "execution_count": 36,
     "metadata": {},
     "output_type": "execute_result"
    }
   ],
   "source": [
    "df_ingredients.to_sql('cocktail', conn, index=False)"
   ]
  },
  {
   "cell_type": "code",
   "execution_count": 37,
   "id": "880d1972",
   "metadata": {},
   "outputs": [],
   "source": [
    "conn.close()"
   ]
  },
  {
   "cell_type": "code",
   "execution_count": null,
   "id": "9fc7a245",
   "metadata": {},
   "outputs": [],
   "source": []
  }
 ],
 "metadata": {
  "kernelspec": {
   "display_name": "Python 3 (ipykernel)",
   "language": "python",
   "name": "python3"
  },
  "language_info": {
   "codemirror_mode": {
    "name": "ipython",
    "version": 3
   },
   "file_extension": ".py",
   "mimetype": "text/x-python",
   "name": "python",
   "nbconvert_exporter": "python",
   "pygments_lexer": "ipython3",
   "version": "3.9.13"
  }
 },
 "nbformat": 4,
 "nbformat_minor": 5
}
